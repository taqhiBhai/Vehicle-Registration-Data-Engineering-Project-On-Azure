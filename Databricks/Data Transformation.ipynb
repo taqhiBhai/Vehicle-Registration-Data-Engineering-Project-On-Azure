{
 "cells": [
  {
   "cell_type": "markdown",
   "metadata": {
    "application/vnd.databricks.v1+cell": {
     "cellMetadata": {
      "byteLimit": 2048000,
      "rowLimit": 10000
     },
     "inputWidgets": {},
     "nuid": "f7777978-995b-4850-90c7-c3a70099743e",
     "showTitle": false,
     "title": ""
    }
   },
   "source": [
    "## Connecting to ADLS"
   ]
  },
  {
   "cell_type": "code",
   "execution_count": null,
   "metadata": {
    "application/vnd.databricks.v1+cell": {
     "cellMetadata": {
      "byteLimit": 2048000,
      "rowLimit": 10000
     },
     "inputWidgets": {},
     "nuid": "4ac62402-9252-460e-987f-998c82972214",
     "showTitle": false,
     "title": ""
    }
   },
   "outputs": [],
   "source": [
    "# display(dbutils.fs.ls(\"abfss://processed@ADLS_name.dfs.core.windows.net\"))"
   ]
  },
  {
   "cell_type": "markdown",
   "metadata": {
    "application/vnd.databricks.v1+cell": {
     "cellMetadata": {
      "byteLimit": 2048000,
      "rowLimit": 10000
     },
     "inputWidgets": {},
     "nuid": "59f7f225-8f63-44a0-b9dd-54fabe9bf446",
     "showTitle": false,
     "title": ""
    }
   },
   "source": [
    "### Exploring Data\n",
    "##### Displaying ts_registration dataset"
   ]
  },
  {
   "cell_type": "code",
   "execution_count": null,
   "metadata": {
    "application/vnd.databricks.v1+cell": {
     "cellMetadata": {
      "byteLimit": 2048000,
      "rowLimit": 10000
     },
     "inputWidgets": {},
     "nuid": "245a3b8d-66eb-4302-b9a0-3b8ce5fe9623",
     "showTitle": false,
     "title": "Displaying data"
    }
   },
   "outputs": [],
   "source": [
    "display(spark.read.csv(\"abfss://raw@ADLS_name.dfs.core.windows.net/ts_registration.csv\",header=True))"
   ]
  },
  {
   "cell_type": "markdown",
   "metadata": {
    "application/vnd.databricks.v1+cell": {
     "cellMetadata": {
      "byteLimit": 2048000,
      "rowLimit": 10000
     },
     "inputWidgets": {},
     "nuid": "5bc5cc18-153d-4d6b-a23d-e09f5fa8f29b",
     "showTitle": false,
     "title": ""
    }
   },
   "source": [
    "### 1) Creating DataFrame"
   ]
  },
  {
   "cell_type": "code",
   "execution_count": null,
   "metadata": {
    "application/vnd.databricks.v1+cell": {
     "cellMetadata": {
      "byteLimit": 2048000,
      "rowLimit": 10000
     },
     "inputWidgets": {},
     "nuid": "bd9cfecc-cc8e-4003-94c5-9f94d75dba75",
     "showTitle": false,
     "title": ""
    }
   },
   "outputs": [],
   "source": [
    "reg_df = spark.read.csv(\"abfss://raw@ADLS_name.dfs.core.windows.net/ts_registration.csv\",header=True,inferSchema=True,escape='\"')"
   ]
  },
  {
   "cell_type": "code",
   "execution_count": null,
   "metadata": {
    "application/vnd.databricks.v1+cell": {
     "cellMetadata": {
      "byteLimit": 2048000,
      "rowLimit": 10000
     },
     "inputWidgets": {},
     "nuid": "01cafdb1-3d47-4c7f-a8cd-22a4cfd12d2b",
     "showTitle": false,
     "title": ""
    }
   },
   "outputs": [],
   "source": [
    "display(reg_df)"
   ]
  },
  {
   "cell_type": "code",
   "execution_count": null,
   "metadata": {
    "application/vnd.databricks.v1+cell": {
     "cellMetadata": {
      "byteLimit": 2048000,
      "rowLimit": 10000
     },
     "inputWidgets": {},
     "nuid": "39b88932-3b86-47e8-af46-9a11e9dfdf91",
     "showTitle": false,
     "title": ""
    }
   },
   "outputs": [],
   "source": [
    "reg_df.printSchema()"
   ]
  },
  {
   "cell_type": "code",
   "execution_count": null,
   "metadata": {
    "application/vnd.databricks.v1+cell": {
     "cellMetadata": {
      "byteLimit": 2048000,
      "rowLimit": 10000
     },
     "inputWidgets": {},
     "nuid": "d2b6f783-51c4-4005-9898-9cdfeaddc6d8",
     "showTitle": false,
     "title": ""
    }
   },
   "outputs": [],
   "source": [
    "from pyspark.sql.functions import count,when,isnull,col,desc,trim,coalesce"
   ]
  },
  {
   "cell_type": "markdown",
   "metadata": {
    "application/vnd.databricks.v1+cell": {
     "cellMetadata": {
      "byteLimit": 2048000,
      "rowLimit": 10000
     },
     "inputWidgets": {},
     "nuid": "5fa4efe6-e2b7-43e3-8b7f-af7f21b2e8ad",
     "showTitle": false,
     "title": ""
    }
   },
   "source": [
    "#### 2) Checking Nulls"
   ]
  },
  {
   "cell_type": "code",
   "execution_count": null,
   "metadata": {
    "application/vnd.databricks.v1+cell": {
     "cellMetadata": {
      "byteLimit": 2048000,
      "rowLimit": 10000
     },
     "inputWidgets": {},
     "nuid": "16f2a9c6-17d9-43a7-b0aa-70e85ce443cb",
     "showTitle": false,
     "title": "Checking Nulls"
    }
   },
   "outputs": [],
   "source": [
    "reg_df.select([count(when(isnull(c),c)).alias(c) for c in reg_df.columns]).show(vertical=True)"
   ]
  },
  {
   "cell_type": "markdown",
   "metadata": {
    "application/vnd.databricks.v1+cell": {
     "cellMetadata": {
      "byteLimit": 2048000,
      "rowLimit": 10000
     },
     "inputWidgets": {},
     "nuid": "43b865a8-0c3c-4145-b6e6-54c910b7ab79",
     "showTitle": false,
     "title": ""
    }
   },
   "source": [
    "### 3) Temp view\n",
    "##### Creating Temp View to write SQL quries"
   ]
  },
  {
   "cell_type": "code",
   "execution_count": null,
   "metadata": {
    "application/vnd.databricks.v1+cell": {
     "cellMetadata": {
      "byteLimit": 2048000,
      "rowLimit": 10000
     },
     "inputWidgets": {},
     "nuid": "396ce35a-d0a3-4a08-8ebe-6e41bade1052",
     "showTitle": false,
     "title": ""
    }
   },
   "outputs": [],
   "source": [
    "reg_df.createOrReplaceTempView(\"ts\")"
   ]
  },
  {
   "cell_type": "code",
   "execution_count": null,
   "metadata": {
    "application/vnd.databricks.v1+cell": {
     "cellMetadata": {
      "byteLimit": 2048000,
      "rowLimit": 10000
     },
     "inputWidgets": {},
     "nuid": "0201ac13-9ce1-4b8b-a3d4-5cade8865e31",
     "showTitle": false,
     "title": ""
    }
   },
   "outputs": [],
   "source": [
    "spark.sql(\"SELECT * FROM ts\").show(5)"
   ]
  },
  {
   "cell_type": "code",
   "execution_count": null,
   "metadata": {
    "application/vnd.databricks.v1+cell": {
     "cellMetadata": {
      "byteLimit": 2048000,
      "rowLimit": 10000
     },
     "inputWidgets": {},
     "nuid": "2c6d834f-75ff-4cb7-baa4-47efa2c05fad",
     "showTitle": false,
     "title": ""
    }
   },
   "outputs": [],
   "source": [
    "display(spark.sql(\"SELECT OfficeCd,count(officeCd) as cnt FROM ts GROUP BY officeCd ORDER BY cnt DESC\"))"
   ]
  },
  {
   "cell_type": "markdown",
   "metadata": {
    "application/vnd.databricks.v1+cell": {
     "cellMetadata": {
      "byteLimit": 2048000,
      "rowLimit": 10000
     },
     "inputWidgets": {},
     "nuid": "a055d1b1-6195-42b1-a01f-a117aafa515b",
     "showTitle": false,
     "title": ""
    }
   },
   "source": [
    "### 5) Removing Duplicates\n",
    "##### Removing Duplicates of last registrationNo"
   ]
  },
  {
   "cell_type": "code",
   "execution_count": null,
   "metadata": {
    "application/vnd.databricks.v1+cell": {
     "cellMetadata": {
      "byteLimit": 2048000,
      "rowLimit": 10000
     },
     "inputWidgets": {},
     "nuid": "ece914fd-c378-4a26-953c-7e4de8fae807",
     "showTitle": false,
     "title": ""
    }
   },
   "outputs": [],
   "source": [
    "te_df = reg_df.orderBy(col(\"registrationNo\").desc()).dropDuplicates([\"registrationNo\"])"
   ]
  },
  {
   "cell_type": "code",
   "execution_count": null,
   "metadata": {
    "application/vnd.databricks.v1+cell": {
     "cellMetadata": {
      "byteLimit": 2048000,
      "rowLimit": 10000
     },
     "inputWidgets": {},
     "nuid": "cbd4bd50-7424-464d-9a71-fb2fe93aaaad",
     "showTitle": false,
     "title": ""
    }
   },
   "outputs": [],
   "source": [
    "te_df.count()"
   ]
  },
  {
   "cell_type": "code",
   "execution_count": null,
   "metadata": {
    "application/vnd.databricks.v1+cell": {
     "cellMetadata": {
      "byteLimit": 2048000,
      "rowLimit": 10000
     },
     "inputWidgets": {},
     "nuid": "407092ca-4d1f-4c8d-a912-43f158aa3b49",
     "showTitle": false,
     "title": ""
    }
   },
   "outputs": [],
   "source": [
    "display(te_df.groupBy(\"fromDate\").agg(count('registrationNo')).orderBy(\"fromDate\"))"
   ]
  },
  {
   "cell_type": "markdown",
   "metadata": {
    "application/vnd.databricks.v1+cell": {
     "cellMetadata": {
      "byteLimit": 2048000,
      "rowLimit": 10000
     },
     "inputWidgets": {},
     "nuid": "cc76c17a-21db-491a-9b07-21d0f98e45f0",
     "showTitle": false,
     "title": ""
    }
   },
   "source": [
    "##### 5.1) Dropping unwanted columns \"reserve_no\""
   ]
  },
  {
   "cell_type": "code",
   "execution_count": null,
   "metadata": {
    "application/vnd.databricks.v1+cell": {
     "cellMetadata": {
      "byteLimit": 2048000,
      "rowLimit": 10000
     },
     "inputWidgets": {},
     "nuid": "d0d1fea1-5da1-4d56-b49e-2700bf6ab063",
     "showTitle": false,
     "title": ""
    }
   },
   "outputs": [],
   "source": [
    "te_df = te_df.drop(\"reserve_no\")"
   ]
  },
  {
   "cell_type": "markdown",
   "metadata": {
    "application/vnd.databricks.v1+cell": {
     "cellMetadata": {
      "byteLimit": 2048000,
      "rowLimit": 10000
     },
     "inputWidgets": {},
     "nuid": "f09a0a61-a4b8-4d3b-8059-fd2dbfca9f10",
     "showTitle": false,
     "title": ""
    }
   },
   "source": [
    "##### 5.2) Dropping unwanted columns \"slno\""
   ]
  },
  {
   "cell_type": "code",
   "execution_count": null,
   "metadata": {
    "application/vnd.databricks.v1+cell": {
     "cellMetadata": {
      "byteLimit": 2048000,
      "rowLimit": 10000
     },
     "inputWidgets": {},
     "nuid": "24ba3361-3d51-4924-9393-b1b8e32283e5",
     "showTitle": false,
     "title": ""
    }
   },
   "outputs": [],
   "source": [
    "te_df = te_df.drop(\"slno\")"
   ]
  },
  {
   "cell_type": "code",
   "execution_count": null,
   "metadata": {
    "application/vnd.databricks.v1+cell": {
     "cellMetadata": {
      "byteLimit": 2048000,
      "rowLimit": 10000
     },
     "inputWidgets": {},
     "nuid": "2b3e203f-a9ec-46a9-91a7-9d662acaa90f",
     "showTitle": false,
     "title": ""
    }
   },
   "outputs": [],
   "source": [
    "te_df.select([count(when(isnull(c),c)).alias(c) for c in te_df.columns]).show(vertical=True)"
   ]
  },
  {
   "cell_type": "markdown",
   "metadata": {
    "application/vnd.databricks.v1+cell": {
     "cellMetadata": {
      "byteLimit": 2048000,
      "rowLimit": 10000
     },
     "inputWidgets": {},
     "nuid": "d282ffa0-3925-420c-b783-fb6b99b4a86e",
     "showTitle": false,
     "title": ""
    }
   },
   "source": [
    "#### 5.3) Dropping rows\n",
    "##### Dropping rows that dosent have \"registrationNo\""
   ]
  },
  {
   "cell_type": "code",
   "execution_count": null,
   "metadata": {
    "application/vnd.databricks.v1+cell": {
     "cellMetadata": {
      "byteLimit": 2048000,
      "rowLimit": 10000
     },
     "inputWidgets": {},
     "nuid": "aee10327-070a-473f-99a2-53ccded70196",
     "showTitle": false,
     "title": ""
    }
   },
   "outputs": [],
   "source": [
    "display(te_df.filter(col(\"registrationNo\").isNull()))"
   ]
  },
  {
   "cell_type": "code",
   "execution_count": null,
   "metadata": {
    "application/vnd.databricks.v1+cell": {
     "cellMetadata": {
      "byteLimit": 2048000,
      "rowLimit": 10000
     },
     "inputWidgets": {},
     "nuid": "3250f753-ac8b-4820-8109-23832299aefb",
     "showTitle": false,
     "title": ""
    }
   },
   "outputs": [],
   "source": [
    "te_df = te_df.na.drop(subset=[\"registrationNo\"])"
   ]
  },
  {
   "cell_type": "code",
   "execution_count": null,
   "metadata": {
    "application/vnd.databricks.v1+cell": {
     "cellMetadata": {
      "byteLimit": 2048000,
      "rowLimit": 10000
     },
     "inputWidgets": {},
     "nuid": "3e3c30dd-6f8c-4b6f-9c83-c084e042be52",
     "showTitle": false,
     "title": ""
    }
   },
   "outputs": [],
   "source": [
    "te_df.select([count(when(isnull(c),c)).alias(c) for c in te_df.columns]).show(vertical=True)"
   ]
  },
  {
   "cell_type": "markdown",
   "metadata": {
    "application/vnd.databricks.v1+cell": {
     "cellMetadata": {
      "byteLimit": 2048000,
      "rowLimit": 10000
     },
     "inputWidgets": {},
     "nuid": "d88a1004-9cb1-4c83-a180-155f644029c8",
     "showTitle": false,
     "title": ""
    }
   },
   "source": [
    "### 6) Checking nulls in fuel"
   ]
  },
  {
   "cell_type": "code",
   "execution_count": null,
   "metadata": {
    "application/vnd.databricks.v1+cell": {
     "cellMetadata": {
      "byteLimit": 2048000,
      "rowLimit": 10000
     },
     "inputWidgets": {},
     "nuid": "909f8798-5348-41f5-8183-3e2c143b4737",
     "showTitle": false,
     "title": ""
    }
   },
   "outputs": [],
   "source": [
    "fuel_df = te_df.filter(col(\"fuel\").isNull())"
   ]
  },
  {
   "cell_type": "code",
   "execution_count": null,
   "metadata": {
    "application/vnd.databricks.v1+cell": {
     "cellMetadata": {
      "byteLimit": 2048000,
      "rowLimit": 10000
     },
     "inputWidgets": {},
     "nuid": "cd1d960a-1f91-47b8-9115-01df25266cc6",
     "showTitle": false,
     "title": ""
    }
   },
   "outputs": [],
   "source": [
    "fuel_df.count()"
   ]
  },
  {
   "cell_type": "code",
   "execution_count": null,
   "metadata": {
    "application/vnd.databricks.v1+cell": {
     "cellMetadata": {
      "byteLimit": 2048000,
      "rowLimit": 10000
     },
     "inputWidgets": {},
     "nuid": "b808e40e-87fc-4618-8cf0-4e776d6a3fad",
     "showTitle": false,
     "title": ""
    }
   },
   "outputs": [],
   "source": [
    "display(fuel_df.groupBy('modelDesc').agg(count('modelDesc')).orderBy(desc(\"count(modelDesc)\")))"
   ]
  },
  {
   "cell_type": "markdown",
   "metadata": {
    "application/vnd.databricks.v1+cell": {
     "cellMetadata": {
      "byteLimit": 2048000,
      "rowLimit": 10000
     },
     "inputWidgets": {},
     "nuid": "0d3425a1-04a5-40d2-802d-cb802a5c7aec",
     "showTitle": false,
     "title": ""
    }
   },
   "source": [
    "###### While searching these modelDesc are trailors of trucks and tractors etc these are additional parts for trucks and tractors  \\\n",
    "###### These can be removed"
   ]
  },
  {
   "cell_type": "code",
   "execution_count": null,
   "metadata": {
    "application/vnd.databricks.v1+cell": {
     "cellMetadata": {
      "byteLimit": 2048000,
      "rowLimit": 10000
     },
     "inputWidgets": {},
     "nuid": "68d6401d-6c08-4f77-8206-642bef4ed93e",
     "showTitle": false,
     "title": ""
    }
   },
   "outputs": [],
   "source": [
    "drop_df = te_df.dropna(subset=[\"fuel\"])"
   ]
  },
  {
   "cell_type": "markdown",
   "metadata": {
    "application/vnd.databricks.v1+cell": {
     "cellMetadata": {
      "byteLimit": 2048000,
      "rowLimit": 10000
     },
     "inputWidgets": {},
     "nuid": "eb799c8d-0cf1-45a7-97f7-b788443d8189",
     "showTitle": false,
     "title": ""
    }
   },
   "source": [
    "#### Nulls from the dataset has been cleared"
   ]
  },
  {
   "cell_type": "code",
   "execution_count": null,
   "metadata": {
    "application/vnd.databricks.v1+cell": {
     "cellMetadata": {
      "byteLimit": 2048000,
      "rowLimit": 10000
     },
     "inputWidgets": {},
     "nuid": "559dd4a6-2d93-41f3-a27d-85f7ec9c2520",
     "showTitle": false,
     "title": ""
    }
   },
   "outputs": [],
   "source": [
    "drop_df.select([count(when(isnull(c),c)).alias(c) for c in drop_df.columns]).show(vertical=True)"
   ]
  },
  {
   "cell_type": "markdown",
   "metadata": {
    "application/vnd.databricks.v1+cell": {
     "cellMetadata": {
      "byteLimit": 2048000,
      "rowLimit": 10000
     },
     "inputWidgets": {},
     "nuid": "451df2a5-525d-4147-9fc1-d7ebf5824ef4",
     "showTitle": false,
     "title": ""
    }
   },
   "source": [
    "#### 7) Data quality checks"
   ]
  },
  {
   "cell_type": "code",
   "execution_count": null,
   "metadata": {
    "application/vnd.databricks.v1+cell": {
     "cellMetadata": {
      "byteLimit": 2048000,
      "rowLimit": 10000
     },
     "inputWidgets": {},
     "nuid": "3bfd704f-fffe-44e5-8540-5cc621336114",
     "showTitle": false,
     "title": ""
    }
   },
   "outputs": [],
   "source": [
    "display(drop_df.groupBy('fuel').count().orderBy(desc(\"count\")))"
   ]
  },
  {
   "cell_type": "code",
   "execution_count": null,
   "metadata": {
    "application/vnd.databricks.v1+cell": {
     "cellMetadata": {
      "byteLimit": 2048000,
      "rowLimit": 10000
     },
     "inputWidgets": {},
     "nuid": "3879e45b-d2f5-4e38-bdb8-b4cf0506dcfa",
     "showTitle": false,
     "title": ""
    }
   },
   "outputs": [],
   "source": [
    "dq_df = drop_df.withColumn(\"fuel\", when(drop_df.fuel == \"Petrol\", \"PETROL\").when(drop_df.fuel == \"petrol\", \"PETROL\").otherwise(drop_df.fuel))"
   ]
  },
  {
   "cell_type": "code",
   "execution_count": null,
   "metadata": {
    "application/vnd.databricks.v1+cell": {
     "cellMetadata": {
      "byteLimit": 2048000,
      "rowLimit": 10000
     },
     "inputWidgets": {},
     "nuid": "4090ae4c-e6ee-4a58-b9e6-e11779ff49bb",
     "showTitle": false,
     "title": ""
    }
   },
   "outputs": [],
   "source": [
    "dq_df = dq_df.withColumn(\"fuel\", when(trim(dq_df.fuel) == \"DIESEL\", \"DIESEL\").otherwise(dq_df.fuel))"
   ]
  },
  {
   "cell_type": "markdown",
   "metadata": {
    "application/vnd.databricks.v1+cell": {
     "cellMetadata": {
      "byteLimit": 2048000,
      "rowLimit": 10000
     },
     "inputWidgets": {},
     "nuid": "af596e2a-372d-4fad-bde7-888462c2d536",
     "showTitle": false,
     "title": ""
    }
   },
   "source": [
    "###### These are additional parts of a trucks and tractors and does not require fuel \n",
    "###### Its better to remove this"
   ]
  },
  {
   "cell_type": "code",
   "execution_count": null,
   "metadata": {
    "application/vnd.databricks.v1+cell": {
     "cellMetadata": {
      "byteLimit": 2048000,
      "rowLimit": 10000
     },
     "inputWidgets": {},
     "nuid": "73377a4c-aaab-49c1-92b1-1134fde56d39",
     "showTitle": false,
     "title": ""
    }
   },
   "outputs": [],
   "source": [
    "display(dq_df.filter(dq_df.fuel == 0))"
   ]
  },
  {
   "cell_type": "code",
   "execution_count": null,
   "metadata": {
    "application/vnd.databricks.v1+cell": {
     "cellMetadata": {
      "byteLimit": 2048000,
      "rowLimit": 10000
     },
     "inputWidgets": {},
     "nuid": "f6782123-4d1a-4d5c-ab85-dbc96db43f9b",
     "showTitle": false,
     "title": ""
    }
   },
   "outputs": [],
   "source": [
    "dq_df = dq_df.filter(dq_df.fuel != '0')"
   ]
  },
  {
   "cell_type": "code",
   "execution_count": null,
   "metadata": {
    "application/vnd.databricks.v1+cell": {
     "cellMetadata": {
      "byteLimit": 2048000,
      "rowLimit": 10000
     },
     "inputWidgets": {},
     "nuid": "3d5bf201-515b-4c84-9527-eafefb436f64",
     "showTitle": false,
     "title": ""
    }
   },
   "outputs": [],
   "source": [
    "display(dq_df.filter(dq_df.fuel == -1))"
   ]
  },
  {
   "cell_type": "markdown",
   "metadata": {
    "application/vnd.databricks.v1+cell": {
     "cellMetadata": {
      "byteLimit": 2048000,
      "rowLimit": 10000
     },
     "inputWidgets": {},
     "nuid": "f6949afb-270c-45a7-b513-0297f81f59d1",
     "showTitle": false,
     "title": ""
    }
   },
   "source": [
    "##### Removing rows"
   ]
  },
  {
   "cell_type": "code",
   "execution_count": null,
   "metadata": {
    "application/vnd.databricks.v1+cell": {
     "cellMetadata": {
      "byteLimit": 2048000,
      "rowLimit": 10000
     },
     "inputWidgets": {},
     "nuid": "66b32f24-2fc0-41ab-8997-485e69a9f927",
     "showTitle": false,
     "title": ""
    }
   },
   "outputs": [],
   "source": [
    "dq_df = dq_df.filter(dq_df.fuel != '-1')"
   ]
  },
  {
   "cell_type": "code",
   "execution_count": null,
   "metadata": {
    "application/vnd.databricks.v1+cell": {
     "cellMetadata": {
      "byteLimit": 2048000,
      "rowLimit": 10000
     },
     "inputWidgets": {},
     "nuid": "c52370a9-e68b-4ac5-92e6-7b6a94c75083",
     "showTitle": false,
     "title": ""
    }
   },
   "outputs": [],
   "source": [
    "display(dq_df.groupBy('fuel').count().orderBy(desc(\"count\")))"
   ]
  },
  {
   "cell_type": "code",
   "execution_count": null,
   "metadata": {
    "application/vnd.databricks.v1+cell": {
     "cellMetadata": {
      "byteLimit": 2048000,
      "rowLimit": 10000
     },
     "inputWidgets": {},
     "nuid": "8881b87f-9357-40d4-ae86-1932fc14a4de",
     "showTitle": false,
     "title": ""
    }
   },
   "outputs": [],
   "source": [
    "final_df = dq_df"
   ]
  },
  {
   "cell_type": "code",
   "execution_count": null,
   "metadata": {
    "application/vnd.databricks.v1+cell": {
     "cellMetadata": {
      "byteLimit": 2048000,
      "rowLimit": 10000
     },
     "inputWidgets": {},
     "nuid": "4a76a20b-1056-4e15-b488-06a7ac5d001c",
     "showTitle": false,
     "title": ""
    }
   },
   "outputs": [],
   "source": [
    "display(final_df)"
   ]
  },
  {
   "cell_type": "markdown",
   "metadata": {
    "application/vnd.databricks.v1+cell": {
     "cellMetadata": {
      "byteLimit": 2048000,
      "rowLimit": 10000
     },
     "inputWidgets": {},
     "nuid": "111a81fe-fcde-4528-a98d-935917ac1afa",
     "showTitle": false,
     "title": ""
    }
   },
   "source": [
    "#### Write df to Parquet format"
   ]
  },
  {
   "cell_type": "code",
   "execution_count": null,
   "metadata": {
    "application/vnd.databricks.v1+cell": {
     "cellMetadata": {
      "byteLimit": 2048000,
      "rowLimit": 10000
     },
     "inputWidgets": {},
     "nuid": "1b50282a-5782-4d4e-9153-cba2e92ebc3a",
     "showTitle": false,
     "title": "s"
    }
   },
   "outputs": [],
   "source": [
    "final_df.coalesce(1).write.parquet(\"abfss://processed@ADLS_name.dfs.core.windows.net/tsreg\")"
   ]
  },
  {
   "cell_type": "code",
   "execution_count": null,
   "metadata": {
    "application/vnd.databricks.v1+cell": {
     "cellMetadata": {
      "byteLimit": 2048000,
      "rowLimit": 10000
     },
     "inputWidgets": {},
     "nuid": "b58c8421-ee78-4a6b-9f5a-ce264375222e",
     "showTitle": false,
     "title": ""
    }
   },
   "outputs": [],
   "source": [
    "par_df = spark.read.parquet(\"abfss://processed@ADLS_name.dfs.core.windows.net/tsreg\")"
   ]
  },
  {
   "cell_type": "code",
   "execution_count": null,
   "metadata": {
    "application/vnd.databricks.v1+cell": {
     "cellMetadata": {
      "byteLimit": 2048000,
      "rowLimit": 10000
     },
     "inputWidgets": {},
     "nuid": "804426c7-62d1-4550-9521-e6faa9b82cd5",
     "showTitle": false,
     "title": ""
    }
   },
   "outputs": [],
   "source": [
    "par_df.count()"
   ]
  },
  {
   "cell_type": "code",
   "execution_count": null,
   "metadata": {
    "application/vnd.databricks.v1+cell": {
     "cellMetadata": {
      "byteLimit": 2048000,
      "rowLimit": 10000
     },
     "inputWidgets": {},
     "nuid": "873aefd4-9558-4083-a229-e2e4c529996a",
     "showTitle": false,
     "title": ""
    }
   },
   "outputs": [],
   "source": []
  }
 ],
 "metadata": {
  "application/vnd.databricks.v1+notebook": {
   "dashboards": [],
   "language": "python",
   "notebookMetadata": {
    "mostRecentlyExecutedCommandWithImplicitDF": {
     "commandId": 4492884111983522,
     "dataframes": [
      "_sqldf"
     ]
    },
    "pythonIndentUnit": 4
   },
   "notebookName": "Data Transformation",
   "widgets": {}
  },
  "kernelspec": {
   "display_name": "Python 3 (ipykernel)",
   "language": "python",
   "name": "python3"
  },
  "language_info": {
   "codemirror_mode": {
    "name": "ipython",
    "version": 3
   },
   "file_extension": ".py",
   "mimetype": "text/x-python",
   "name": "python",
   "nbconvert_exporter": "python",
   "pygments_lexer": "ipython3",
   "version": "3.10.10"
  }
 },
 "nbformat": 4,
 "nbformat_minor": 1
}
